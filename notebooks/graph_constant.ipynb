{
 "cells": [
  {
   "cell_type": "markdown",
   "metadata": {},
   "source": [
    "## Example for only AF8\n",
    "\n",
    "### Import packages & load data"
   ]
  },
  {
   "cell_type": "code",
   "execution_count": 109,
   "metadata": {},
   "outputs": [],
   "source": [
    "import pandas as pd\n",
    "import numpy as np\n",
    "from sklearn.preprocessing import RobustScaler\n",
    "from scipy.signal import iirnotch, butter, filtfilt\n",
    "from scipy.stats import skew, ttest_ind\n",
    "import mne\n",
    "import matplotlib.pyplot as plt\n",
    "\n",
    "# Load the data\n",
    "data = pd.read_csv('../data/5min_256Hz_17:11:23.csv')"
   ]
  },
  {
   "cell_type": "code",
   "execution_count": 110,
   "metadata": {},
   "outputs": [
    {
     "data": {
      "text/html": [
       "<div>\n",
       "<style scoped>\n",
       "    .dataframe tbody tr th:only-of-type {\n",
       "        vertical-align: middle;\n",
       "    }\n",
       "\n",
       "    .dataframe tbody tr th {\n",
       "        vertical-align: top;\n",
       "    }\n",
       "\n",
       "    .dataframe thead th {\n",
       "        text-align: right;\n",
       "    }\n",
       "</style>\n",
       "<table border=\"1\" class=\"dataframe\">\n",
       "  <thead>\n",
       "    <tr style=\"text-align: right;\">\n",
       "      <th></th>\n",
       "      <th>TimeStamp</th>\n",
       "      <th>Delta_TP9</th>\n",
       "      <th>Delta_AF7</th>\n",
       "      <th>Delta_AF8</th>\n",
       "      <th>Delta_TP10</th>\n",
       "      <th>Theta_TP9</th>\n",
       "      <th>Theta_AF7</th>\n",
       "      <th>Theta_AF8</th>\n",
       "      <th>Theta_TP10</th>\n",
       "      <th>Alpha_TP9</th>\n",
       "      <th>...</th>\n",
       "      <th>Gyro_X</th>\n",
       "      <th>Gyro_Y</th>\n",
       "      <th>Gyro_Z</th>\n",
       "      <th>HeadBandOn</th>\n",
       "      <th>HSI_TP9</th>\n",
       "      <th>HSI_AF7</th>\n",
       "      <th>HSI_AF8</th>\n",
       "      <th>HSI_TP10</th>\n",
       "      <th>Battery</th>\n",
       "      <th>Elements</th>\n",
       "    </tr>\n",
       "  </thead>\n",
       "  <tbody>\n",
       "    <tr>\n",
       "      <th>0</th>\n",
       "      <td>2023-11-17 09:37:56.372</td>\n",
       "      <td>NaN</td>\n",
       "      <td>NaN</td>\n",
       "      <td>NaN</td>\n",
       "      <td>NaN</td>\n",
       "      <td>NaN</td>\n",
       "      <td>NaN</td>\n",
       "      <td>NaN</td>\n",
       "      <td>NaN</td>\n",
       "      <td>NaN</td>\n",
       "      <td>...</td>\n",
       "      <td>NaN</td>\n",
       "      <td>NaN</td>\n",
       "      <td>NaN</td>\n",
       "      <td>NaN</td>\n",
       "      <td>NaN</td>\n",
       "      <td>NaN</td>\n",
       "      <td>NaN</td>\n",
       "      <td>NaN</td>\n",
       "      <td>NaN</td>\n",
       "      <td>/muse/event/connected Muse-AB4C</td>\n",
       "    </tr>\n",
       "    <tr>\n",
       "      <th>1</th>\n",
       "      <td>2023-11-17 09:37:56.451</td>\n",
       "      <td>0.316438</td>\n",
       "      <td>0.948555</td>\n",
       "      <td>0.766601</td>\n",
       "      <td>1.154738</td>\n",
       "      <td>-0.153094</td>\n",
       "      <td>0.388197</td>\n",
       "      <td>0.431739</td>\n",
       "      <td>0.71507</td>\n",
       "      <td>0.398981</td>\n",
       "      <td>...</td>\n",
       "      <td>6.25061</td>\n",
       "      <td>-3.132782</td>\n",
       "      <td>-0.687866</td>\n",
       "      <td>1.0</td>\n",
       "      <td>1.0</td>\n",
       "      <td>1.0</td>\n",
       "      <td>1.0</td>\n",
       "      <td>1.0</td>\n",
       "      <td>45.0</td>\n",
       "      <td>NaN</td>\n",
       "    </tr>\n",
       "    <tr>\n",
       "      <th>2</th>\n",
       "      <td>2023-11-17 09:37:56.452</td>\n",
       "      <td>0.316438</td>\n",
       "      <td>0.948555</td>\n",
       "      <td>0.766601</td>\n",
       "      <td>1.154738</td>\n",
       "      <td>-0.153094</td>\n",
       "      <td>0.388197</td>\n",
       "      <td>0.431739</td>\n",
       "      <td>0.71507</td>\n",
       "      <td>0.398981</td>\n",
       "      <td>...</td>\n",
       "      <td>6.25061</td>\n",
       "      <td>-3.132782</td>\n",
       "      <td>-0.687866</td>\n",
       "      <td>1.0</td>\n",
       "      <td>1.0</td>\n",
       "      <td>1.0</td>\n",
       "      <td>1.0</td>\n",
       "      <td>1.0</td>\n",
       "      <td>45.0</td>\n",
       "      <td>NaN</td>\n",
       "    </tr>\n",
       "    <tr>\n",
       "      <th>3</th>\n",
       "      <td>2023-11-17 09:37:56.452</td>\n",
       "      <td>0.316438</td>\n",
       "      <td>0.948555</td>\n",
       "      <td>0.766601</td>\n",
       "      <td>1.154738</td>\n",
       "      <td>-0.153094</td>\n",
       "      <td>0.388197</td>\n",
       "      <td>0.431739</td>\n",
       "      <td>0.71507</td>\n",
       "      <td>0.398981</td>\n",
       "      <td>...</td>\n",
       "      <td>6.25061</td>\n",
       "      <td>-3.132782</td>\n",
       "      <td>-0.687866</td>\n",
       "      <td>1.0</td>\n",
       "      <td>1.0</td>\n",
       "      <td>1.0</td>\n",
       "      <td>1.0</td>\n",
       "      <td>1.0</td>\n",
       "      <td>45.0</td>\n",
       "      <td>NaN</td>\n",
       "    </tr>\n",
       "    <tr>\n",
       "      <th>4</th>\n",
       "      <td>2023-11-17 09:37:56.453</td>\n",
       "      <td>0.316438</td>\n",
       "      <td>0.948555</td>\n",
       "      <td>0.766601</td>\n",
       "      <td>1.154738</td>\n",
       "      <td>-0.153094</td>\n",
       "      <td>0.388197</td>\n",
       "      <td>0.431739</td>\n",
       "      <td>0.71507</td>\n",
       "      <td>0.398981</td>\n",
       "      <td>...</td>\n",
       "      <td>6.25061</td>\n",
       "      <td>-3.132782</td>\n",
       "      <td>-0.687866</td>\n",
       "      <td>1.0</td>\n",
       "      <td>1.0</td>\n",
       "      <td>1.0</td>\n",
       "      <td>1.0</td>\n",
       "      <td>1.0</td>\n",
       "      <td>45.0</td>\n",
       "      <td>NaN</td>\n",
       "    </tr>\n",
       "  </tbody>\n",
       "</table>\n",
       "<p>5 rows × 39 columns</p>\n",
       "</div>"
      ],
      "text/plain": [
       "                 TimeStamp  Delta_TP9  Delta_AF7  Delta_AF8  Delta_TP10  \\\n",
       "0  2023-11-17 09:37:56.372        NaN        NaN        NaN         NaN   \n",
       "1  2023-11-17 09:37:56.451   0.316438   0.948555   0.766601    1.154738   \n",
       "2  2023-11-17 09:37:56.452   0.316438   0.948555   0.766601    1.154738   \n",
       "3  2023-11-17 09:37:56.452   0.316438   0.948555   0.766601    1.154738   \n",
       "4  2023-11-17 09:37:56.453   0.316438   0.948555   0.766601    1.154738   \n",
       "\n",
       "   Theta_TP9  Theta_AF7  Theta_AF8  Theta_TP10  Alpha_TP9  ...   Gyro_X  \\\n",
       "0        NaN        NaN        NaN         NaN        NaN  ...      NaN   \n",
       "1  -0.153094   0.388197   0.431739     0.71507   0.398981  ...  6.25061   \n",
       "2  -0.153094   0.388197   0.431739     0.71507   0.398981  ...  6.25061   \n",
       "3  -0.153094   0.388197   0.431739     0.71507   0.398981  ...  6.25061   \n",
       "4  -0.153094   0.388197   0.431739     0.71507   0.398981  ...  6.25061   \n",
       "\n",
       "     Gyro_Y    Gyro_Z  HeadBandOn  HSI_TP9  HSI_AF7  HSI_AF8  HSI_TP10  \\\n",
       "0       NaN       NaN         NaN      NaN      NaN      NaN       NaN   \n",
       "1 -3.132782 -0.687866         1.0      1.0      1.0      1.0       1.0   \n",
       "2 -3.132782 -0.687866         1.0      1.0      1.0      1.0       1.0   \n",
       "3 -3.132782 -0.687866         1.0      1.0      1.0      1.0       1.0   \n",
       "4 -3.132782 -0.687866         1.0      1.0      1.0      1.0       1.0   \n",
       "\n",
       "   Battery                         Elements  \n",
       "0      NaN  /muse/event/connected Muse-AB4C  \n",
       "1     45.0                              NaN  \n",
       "2     45.0                              NaN  \n",
       "3     45.0                              NaN  \n",
       "4     45.0                              NaN  \n",
       "\n",
       "[5 rows x 39 columns]"
      ]
     },
     "execution_count": 110,
     "metadata": {},
     "output_type": "execute_result"
    }
   ],
   "source": [
    "# first glance\n",
    "data.head()"
   ]
  },
  {
   "cell_type": "code",
   "execution_count": 111,
   "metadata": {},
   "outputs": [
    {
     "data": {
      "text/plain": [
       "(87326, 40)"
      ]
     },
     "execution_count": 111,
     "metadata": {},
     "output_type": "execute_result"
    }
   ],
   "source": [
    "df.shape"
   ]
  },
  {
   "cell_type": "code",
   "execution_count": 112,
   "metadata": {},
   "outputs": [],
   "source": [
    "# TODO: handle missing values in a better fashion (interpolation?)\n",
    "channels = ['RAW_AF8']\n",
    "af8 = data[channels]\n",
    "af8 = af8.dropna()"
   ]
  },
  {
   "cell_type": "markdown",
   "metadata": {},
   "source": [
    "### Artifact removal"
   ]
  },
  {
   "cell_type": "code",
   "execution_count": 113,
   "metadata": {},
   "outputs": [],
   "source": [
    "# Removing the 50Hs power line artifact\n",
    "fs = 256\n",
    "f0 = 50\n",
    "quality_factor = 30\n",
    "\n",
    "b, a = iirnotch(f0, quality_factor, fs)\n",
    "af8['AF8_filt'] = filtfilt(b, a, af8['RAW_AF8'])"
   ]
  },
  {
   "cell_type": "markdown",
   "metadata": {},
   "source": [
    "### Normalize and clamp\n",
    "Method from: https://www.nature.com/articles/s42256-023-00714-5\n",
    "\n",
    "\n",
    "(extended in: https://static-content.springer.com/esm/art%3A10.1038%2Fs42256-023-00714-5/MediaObjects/42256_2023_714_MOESM1_ESM.pdf)"
   ]
  },
  {
   "cell_type": "code",
   "execution_count": 114,
   "metadata": {},
   "outputs": [],
   "source": [
    "mean = af8['AF8_filt'].mean()\n",
    "std = af8['AF8_filt'].std()\n",
    "\n",
    "# Clamp values greater than 20 standard deviations\n",
    "af8['AF8_filt_normal'] = np.clip(af8['AF8_filt'], mean - 20*std, mean + 20*std)\n",
    "\n",
    "# Apply a robust scaler\n",
    "scaler = RobustScaler(quantile_range=(25.0, 75.0))\n",
    "af8['AF8_filt_normal'] = scaler.fit_transform(af8[['AF8_filt_normal']])"
   ]
  },
  {
   "cell_type": "markdown",
   "metadata": {},
   "source": [
    "### Band pass filter"
   ]
  },
  {
   "cell_type": "code",
   "execution_count": 115,
   "metadata": {},
   "outputs": [],
   "source": [
    "# Parameters\n",
    "lowcut = 0.5\n",
    "highcut = 50.0\n",
    "fs = 256  \n",
    "filter_order = 5\n",
    "\n",
    "# Butterworth filter\n",
    "nyquist_freq = 0.5 * fs\n",
    "low = lowcut / nyquist_freq\n",
    "high = highcut / nyquist_freq\n",
    "b, a = butter(filter_order, [low, high], btype=\"band\")\n",
    "af8['AF8_bandpassed'] = filtfilt(b, a, af8['AF8_filt_normal'])"
   ]
  },
  {
   "cell_type": "code",
   "execution_count": 116,
   "metadata": {},
   "outputs": [
    {
     "data": {
      "text/html": [
       "<div>\n",
       "<style scoped>\n",
       "    .dataframe tbody tr th:only-of-type {\n",
       "        vertical-align: middle;\n",
       "    }\n",
       "\n",
       "    .dataframe tbody tr th {\n",
       "        vertical-align: top;\n",
       "    }\n",
       "\n",
       "    .dataframe thead th {\n",
       "        text-align: right;\n",
       "    }\n",
       "</style>\n",
       "<table border=\"1\" class=\"dataframe\">\n",
       "  <thead>\n",
       "    <tr style=\"text-align: right;\">\n",
       "      <th></th>\n",
       "      <th>RAW_AF8</th>\n",
       "      <th>AF8_filt</th>\n",
       "      <th>AF8_filt_normal</th>\n",
       "      <th>AF8_bandpassed</th>\n",
       "    </tr>\n",
       "  </thead>\n",
       "  <tbody>\n",
       "    <tr>\n",
       "      <th>1</th>\n",
       "      <td>824.798535</td>\n",
       "      <td>824.903110</td>\n",
       "      <td>4.572145</td>\n",
       "      <td>0.118288</td>\n",
       "    </tr>\n",
       "    <tr>\n",
       "      <th>2</th>\n",
       "      <td>819.157509</td>\n",
       "      <td>819.329414</td>\n",
       "      <td>3.859365</td>\n",
       "      <td>-0.402088</td>\n",
       "    </tr>\n",
       "    <tr>\n",
       "      <th>3</th>\n",
       "      <td>818.351648</td>\n",
       "      <td>818.350359</td>\n",
       "      <td>3.734161</td>\n",
       "      <td>-0.650035</td>\n",
       "    </tr>\n",
       "    <tr>\n",
       "      <th>4</th>\n",
       "      <td>820.769231</td>\n",
       "      <td>820.599158</td>\n",
       "      <td>4.021744</td>\n",
       "      <td>-0.598607</td>\n",
       "    </tr>\n",
       "    <tr>\n",
       "      <th>5</th>\n",
       "      <td>821.575092</td>\n",
       "      <td>821.480203</td>\n",
       "      <td>4.134414</td>\n",
       "      <td>-0.441593</td>\n",
       "    </tr>\n",
       "  </tbody>\n",
       "</table>\n",
       "</div>"
      ],
      "text/plain": [
       "      RAW_AF8    AF8_filt  AF8_filt_normal  AF8_bandpassed\n",
       "1  824.798535  824.903110         4.572145        0.118288\n",
       "2  819.157509  819.329414         3.859365       -0.402088\n",
       "3  818.351648  818.350359         3.734161       -0.650035\n",
       "4  820.769231  820.599158         4.021744       -0.598607\n",
       "5  821.575092  821.480203         4.134414       -0.441593"
      ]
     },
     "execution_count": 116,
     "metadata": {},
     "output_type": "execute_result"
    }
   ],
   "source": [
    "af8.head()"
   ]
  },
  {
   "cell_type": "code",
   "execution_count": 117,
   "metadata": {},
   "outputs": [],
   "source": [
    "# Custom function to calculate approximate entropy\n",
    "def approximate_entropy(segment, m=2, r=None):\n",
    "    if not r:\n",
    "        r = 0.2 * np.std(segment)\n",
    "    \n",
    "    def phi(m):\n",
    "        x = np.array([segment[j:j+m] for j in range(len(segment) - m + 1)])\n",
    "        C = np.sum([np.sum(np.abs(x - x[i]) <= r, axis=1) / (len(segment) - m + 1) for i in range(len(segment) - m + 1)], axis=0) / (len(segment) - m + 1)\n",
    "        return np.sum(np.log(C)) / (len(segment) - m + 1)\n",
    "    \n",
    "    return np.abs(phi(m) - phi(m + 1))"
   ]
  },
  {
   "cell_type": "code",
   "execution_count": null,
   "metadata": {},
   "outputs": [],
   "source": []
  },
  {
   "cell_type": "code",
   "execution_count": 16,
   "metadata": {},
   "outputs": [
    {
     "name": "stderr",
     "output_type": "stream",
     "text": [
      "/var/folders/vn/vg9g17yx0hgcwsgfx9z89kpc0000gn/T/ipykernel_96375/3492679977.py:16: RuntimeWarning: Precision loss occurred in moment calculation due to catastrophic cancellation. This occurs when the data are nearly identical. Results may be unreliable.\n",
      "  feature_data[f'{channel}_skewness'] = feature_data.get(f'{channel}_skewness', []) + [skew(segment)]\n"
     ]
    }
   ],
   "source": [
    "# Define the segment size\n",
    "segment_size = int(0.8 * 256) # this is 204 which is 0.796875 seconds\n",
    "\n",
    "# Create empty lists to store our results\n",
    "feature_data = {}\n",
    "\n",
    "for i in range(0, len(data), segment_size):\n",
    "    for channel in channels:\n",
    "        segment = data[channel].iloc[i:i+segment_size]\n",
    "        if len(segment) < segment_size: continue\n",
    "        segment = segment.reset_index(drop=True)\n",
    "        feature_data[f'{channel}_approx_entropy'] = feature_data.get(f'{channel}_approx_entropy', []) + [approximate_entropy(segment)]\n",
    "        feature_data[f'{channel}_total_variation'] = feature_data.get(f'{channel}_total_variation', []) + [np.sum(np.gradient(segment))]\n",
    "        feature_data[f'{channel}_standard_variation'] = feature_data.get(f'{channel}_standard_variation', []) + [np.std(segment)]\n",
    "        feature_data[f'{channel}_energy'] = feature_data.get(f'{channel}_energy', []) + [np.sum(segment**2)]\n",
    "        feature_data[f'{channel}_skewness'] = feature_data.get(f'{channel}_skewness', []) + [skew(segment)]\n",
    "\n",
    "\n",
    "# You can now convert these lists into a DataFrame\n",
    "features_df = pd.DataFrame(feature_data)"
   ]
  },
  {
   "cell_type": "code",
   "execution_count": 17,
   "metadata": {},
   "outputs": [
    {
     "name": "stdout",
     "output_type": "stream",
     "text": [
      "(427, 25)\n",
      "   Delta_AF8_approx_entropy  Delta_AF8_total_variation  \\\n",
      "0                  0.411689                  -1.084486   \n",
      "1                  0.414500                   0.428411   \n",
      "2                  0.411689                   0.551657   \n",
      "3                  0.420183                  -0.034374   \n",
      "4                  0.409269                  -0.500206   \n",
      "\n",
      "   Delta_AF8_standard_variation  Delta_AF8_energy  Delta_AF8_skewness  \\\n",
      "0                      0.399570         44.587422           -0.148714   \n",
      "1                      0.134545          4.476283           -0.381333   \n",
      "2                      0.201296         41.978996           -0.169881   \n",
      "3                      0.013328         87.341659           -0.311431   \n",
      "4                      0.195606         36.077862           -0.010685   \n",
      "\n",
      "   Theta_AF8_approx_entropy  Theta_AF8_total_variation  \\\n",
      "0                  0.415488                  -0.511263   \n",
      "1                  0.414662                   0.191133   \n",
      "2                  0.409406                   0.368375   \n",
      "3                  0.420768                  -0.108639   \n",
      "4                  0.409269                  -0.678909   \n",
      "\n",
      "   Theta_AF8_standard_variation  Theta_AF8_energy  Theta_AF8_skewness  ...  \\\n",
      "0                      0.188802          9.243903            0.486909  ...   \n",
      "1                      0.067259          0.945109            0.563417  ...   \n",
      "2                      0.140974         25.118489           -0.248611  ...   \n",
      "3                      0.033168         40.093959           -0.482902  ...   \n",
      "4                      0.262520         14.102580            0.047215  ...   \n",
      "\n",
      "   Beta_AF8_approx_entropy  Beta_AF8_total_variation  \\\n",
      "0                 0.411559                 -0.003650   \n",
      "1                 0.417950                  0.134854   \n",
      "2                 0.424902                 -0.060755   \n",
      "3                 0.410751                 -0.150315   \n",
      "4                 0.412411                  0.113917   \n",
      "\n",
      "   Beta_AF8_standard_variation  Beta_AF8_energy  Beta_AF8_skewness  \\\n",
      "0                     0.015109         0.046679          -0.147870   \n",
      "1                     0.035582         2.515561          -1.025283   \n",
      "2                     0.015476         4.442209          -2.194068   \n",
      "3                     0.049033         0.512820           0.702685   \n",
      "4                     0.038742         0.316713          -0.519276   \n",
      "\n",
      "   Gamma_AF8_approx_entropy  Gamma_AF8_total_variation  \\\n",
      "0                  0.416569                  -0.139504   \n",
      "1                  0.412664                   0.198785   \n",
      "2                  0.418790                  -0.011915   \n",
      "3                  0.420714                  -0.098882   \n",
      "4                  0.409269                   0.066158   \n",
      "\n",
      "   Gamma_AF8_standard_variation  Gamma_AF8_energy  Gamma_AF8_skewness  \n",
      "0                      0.038820         37.162192            0.072658  \n",
      "1                      0.068722         32.159219           -0.047848  \n",
      "2                      0.007657         15.662252           -1.249765  \n",
      "3                      0.027839         25.543372            0.338529  \n",
      "4                      0.026369         27.779868            0.046051  \n",
      "\n",
      "[5 rows x 25 columns]\n"
     ]
    }
   ],
   "source": [
    "print(features_df.shape)\n",
    "print(features_df.head())"
   ]
  },
  {
   "cell_type": "markdown",
   "metadata": {},
   "source": [
    "### Add previous windows (context for time series)"
   ]
  },
  {
   "cell_type": "code",
   "execution_count": 23,
   "metadata": {},
   "outputs": [],
   "source": [
    "def add_windows(feature_df, num_windows=9):\n",
    "    new_features = []\n",
    "\n",
    "    for i in range(len(feature_df)):\n",
    "        current_window = feature_df.iloc[i]\n",
    "        if i < num_windows:\n",
    "            previous_windows = pd.DataFrame(index=range(num_windows - i), columns=feature_df.columns)\n",
    "            previous_windows = previous_windows.fillna(0)\n",
    "            previous_windows = pd.concat([previous_windows, feature_df.iloc[:i]])\n",
    "        else:\n",
    "            previous_windows = feature_df.iloc[i - num_windows:i]\n",
    "        concatenated_features = pd.concat([current_window, previous_windows.unstack()]).reset_index(drop=True)\n",
    "        new_features.append(concatenated_features)\n",
    "    \n",
    "    return pd.DataFrame(new_features)\n",
    "\n",
    "new_df = add_windows(features_df)"
   ]
  },
  {
   "cell_type": "code",
   "execution_count": 19,
   "metadata": {},
   "outputs": [
    {
     "name": "stdout",
     "output_type": "stream",
     "text": [
      "(427, 250)\n",
      "        0         1         2          3         4         5         6    \\\n",
      "0  0.411689 -1.084486  0.399570  44.587422 -0.148714  0.415488 -0.511263   \n",
      "1  0.414500  0.428411  0.134545   4.476283 -0.381333  0.414662  0.191133   \n",
      "2  0.411689  0.551657  0.201296  41.978996 -0.169881  0.409406  0.368375   \n",
      "3  0.420183 -0.034374  0.013328  87.341659 -0.311431  0.420768 -0.108639   \n",
      "4  0.409269 -0.500206  0.195606  36.077862 -0.010685  0.409269 -0.678909   \n",
      "\n",
      "        7          8         9    ...        240  241  242  243  244  245  \\\n",
      "0  0.188802   9.243903  0.486909  ...   0.000000  0.0  0.0  0.0  0.0  0.0   \n",
      "1  0.067259   0.945109  0.563417  ...  37.162192  0.0  0.0  0.0  0.0  0.0   \n",
      "2  0.140974  25.118489 -0.248611  ...  32.159219  0.0  0.0  0.0  0.0  0.0   \n",
      "3  0.033168  40.093959 -0.482902  ...  15.662252  0.0  0.0  0.0  0.0  0.0   \n",
      "4  0.262520  14.102580  0.047215  ...  25.543372  0.0  0.0  0.0  0.0  0.0   \n",
      "\n",
      "        246       247       248       249  \n",
      "0  0.000000  0.000000  0.000000  0.000000  \n",
      "1  0.000000  0.000000  0.000000  0.072658  \n",
      "2  0.000000  0.000000  0.072658 -0.047848  \n",
      "3  0.000000  0.072658 -0.047848 -1.249765  \n",
      "4  0.072658 -0.047848 -1.249765  0.338529  \n",
      "\n",
      "[5 rows x 250 columns]\n"
     ]
    }
   ],
   "source": [
    "print(new_df.shape)\n",
    "print(new_df.head())"
   ]
  },
  {
   "cell_type": "markdown",
   "metadata": {},
   "source": [
    "### Join with labels"
   ]
  },
  {
   "cell_type": "code",
   "execution_count": 1,
   "metadata": {},
   "outputs": [
    {
     "data": {
      "text/plain": [
       "(752.9411764705883,\n",
       " 743.6096049573973,\n",
       " 762.5099285146943,\n",
       " 9.331571513190966,\n",
       " 9.568752044105963)"
      ]
     },
     "execution_count": 1,
     "metadata": {},
     "output_type": "execute_result"
    }
   ],
   "source": [
    "# calculate error tolerance\n",
    "\n",
    "# Given parameters\n",
    "eeg_window_size = 0.796875  # seconds\n",
    "session_duration = 10 * 60  # 10 minutes in seconds\n",
    "error_margin = 0.01  # seconds, assumed acceptable error margin\n",
    "\n",
    "# Calculate the number of image transitions in a perfectly timed session\n",
    "perfect_transitions = session_duration / eeg_window_size\n",
    "\n",
    "# Calculate the number of image transitions with the error margin\n",
    "min_transitions_with_error = session_duration / (eeg_window_size + error_margin)\n",
    "max_transitions_with_error = session_duration / (eeg_window_size - error_margin)\n",
    "\n",
    "# Calculate the difference in the number of transitions\n",
    "difference_min = perfect_transitions - min_transitions_with_error\n",
    "difference_max = max_transitions_with_error - perfect_transitions\n",
    "\n",
    "perfect_transitions, min_transitions_with_error, max_transitions_with_error, difference_min, difference_max\n",
    "\n"
   ]
  },
  {
   "cell_type": "markdown",
   "metadata": {},
   "source": []
  },
  {
   "cell_type": "markdown",
   "metadata": {},
   "source": [
    "### Pick relevant feautures with the t-test"
   ]
  },
  {
   "cell_type": "code",
   "execution_count": null,
   "metadata": {},
   "outputs": [],
   "source": [
    "# TODO: join new_df with labels\n",
    "\n",
    "# Split data\n",
    "in_the_zone = data[data['label'] == 1]\n",
    "out_of_the_zone = data[data['label'] == 0]\n",
    "\n",
    "# Perform t-tests\n",
    "features = data.columns.drop('label')\n",
    "p_values = {}\n",
    "for feature in features:\n",
    "    stat, p_val = ttest_ind(in_the_zone[feature], out_of_the_zone[feature])\n",
    "    p_values[feature] = p_val\n",
    "\n",
    "# Select significant features\n",
    "significant_features = [feature for feature, p_val in p_values.items() if p_val < 0.05]\n",
    "\n",
    "# Output significant features\n",
    "print(significant_features)"
   ]
  }
 ],
 "metadata": {
  "kernelspec": {
   "display_name": "halo",
   "language": "python",
   "name": "python3"
  },
  "language_info": {
   "codemirror_mode": {
    "name": "ipython",
    "version": 3
   },
   "file_extension": ".py",
   "mimetype": "text/x-python",
   "name": "python",
   "nbconvert_exporter": "python",
   "pygments_lexer": "ipython3",
   "version": "3.11.4"
  },
  "orig_nbformat": 4,
  "vscode": {
   "interpreter": {
    "hash": "93812d840a8e536de6c94b61afc69e38df91c5b577539c6b60fae54ef1f0703d"
   }
  }
 },
 "nbformat": 4,
 "nbformat_minor": 2
}
